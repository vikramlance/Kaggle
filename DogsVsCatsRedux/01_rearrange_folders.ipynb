{
 "cells": [
  {
   "cell_type": "markdown",
   "metadata": {},
   "source": [
    "# Rearrange images into subfolders"
   ]
  },
  {
   "cell_type": "markdown",
   "metadata": {},
   "source": [
    "First thing we need to do is rearrange the \"raw\" dataset by saving all the images belonging to each class in their own subfolder.\n",
    "\n",
    "This rearrangement is needed in order to allow us make use of the amazing [Kera's ImageDataGenerator](https://keras.io/preprocessing/image/)"
   ]
  },
  {
   "cell_type": "code",
   "execution_count": 4,
   "metadata": {
    "collapsed": true
   },
   "outputs": [],
   "source": [
    "import os"
   ]
  },
  {
   "cell_type": "code",
   "execution_count": 5,
   "metadata": {
    "collapsed": false
   },
   "outputs": [
    {
     "name": "stderr",
     "output_type": "stream",
     "text": [
      "Ya existe el subdirectorio o el archivo train/dog.\n",
      "Ya existe el subdirectorio o el archivo train/cat.\n"
     ]
    }
   ],
   "source": [
    "%mkdir \"train/dog\"\n",
    "%mkdir \"train/cat\""
   ]
  },
  {
   "cell_type": "code",
   "execution_count": 6,
   "metadata": {
    "collapsed": false
   },
   "outputs": [],
   "source": [
    "for dir, subdir, files in os.walk(\"train\"):\n",
    "    if len(subdir) == 0:\n",
    "        continue\n",
    "    for file in files:\n",
    "        category = file.split(\".\")[0]\n",
    "        os.rename(\"{}/{}\".format(dir,file), \"{}/{}/{}\".format(dir, category, file))"
   ]
  },
  {
   "cell_type": "markdown",
   "metadata": {},
   "source": [
    "# Make validation set"
   ]
  },
  {
   "cell_type": "code",
   "execution_count": 7,
   "metadata": {
    "collapsed": false
   },
   "outputs": [
    {
     "name": "stderr",
     "output_type": "stream",
     "text": [
      "Ya existe el subdirectorio o el archivo valid/dog.\n",
      "Ya existe el subdirectorio o el archivo valid/cat.\n"
     ]
    }
   ],
   "source": [
    "%mkdir \"valid/dog\"\n",
    "%mkdir \"valid/cat\""
   ]
  },
  {
   "cell_type": "code",
   "execution_count": 8,
   "metadata": {
    "collapsed": true
   },
   "outputs": [],
   "source": [
    "dogs = [x for x in os.listdir(\"train/dog\")]"
   ]
  },
  {
   "cell_type": "code",
   "execution_count": 9,
   "metadata": {
    "collapsed": true
   },
   "outputs": [],
   "source": [
    "cats = [x for x in os.listdir(\"train/cat\")]"
   ]
  },
  {
   "cell_type": "code",
   "execution_count": 10,
   "metadata": {
    "collapsed": true
   },
   "outputs": [],
   "source": [
    "import random"
   ]
  },
  {
   "cell_type": "code",
   "execution_count": 11,
   "metadata": {
    "collapsed": false
   },
   "outputs": [],
   "source": [
    "if len(os.listdir(\"valid/dog\")) < 1:\n",
    "    for n in random.sample(range(len(dogs)), 1000):\n",
    "        os.rename(\"train/dog/{}\".format(dogs[n]), \"valid/dog/{}\".format(dogs[n]))"
   ]
  },
  {
   "cell_type": "code",
   "execution_count": 12,
   "metadata": {
    "collapsed": true
   },
   "outputs": [],
   "source": [
    "if len(os.listdir(\"valid/cat\")) < 1:\n",
    "    for n in random.sample(range(len(cats)), 1000):\n",
    "        os.rename(\"train/cat/{}\".format(cats[n]), \"valid/cat/{}\".format(cats[n]))"
   ]
  }
 ],
 "metadata": {
  "anaconda-cloud": {},
  "kernelspec": {
   "display_name": "Python [default]",
   "language": "python",
   "name": "python3"
  },
  "language_info": {
   "codemirror_mode": {
    "name": "ipython",
    "version": 3
   },
   "file_extension": ".py",
   "mimetype": "text/x-python",
   "name": "python",
   "nbconvert_exporter": "python",
   "pygments_lexer": "ipython3",
   "version": "3.5.2"
  }
 },
 "nbformat": 4,
 "nbformat_minor": 1
}
