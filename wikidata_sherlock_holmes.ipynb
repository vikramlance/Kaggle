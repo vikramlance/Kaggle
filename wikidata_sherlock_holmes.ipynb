{
 "cells": [
  {
   "cell_type": "code",
   "execution_count": 1,
   "metadata": {
    "collapsed": false
   },
   "outputs": [
    {
     "name": "stdout",
     "output_type": "stream",
     "text": [
      "Collecting sparqlwrapper\n",
      "  Downloading https://files.pythonhosted.org/packages/00/9b/443fbe06996c080ee9c1f01b04e2f683b2b07e149905f33a2397ee3b80a2/SPARQLWrapper-1.8.5-py3-none-any.whl\n",
      "Collecting rdflib>=4.0 (from sparqlwrapper)\n",
      "  Downloading https://files.pythonhosted.org/packages/3c/fe/630bacb652680f6d481b9febbb3e2c3869194a1a5fc3401a4a41195a2f8f/rdflib-4.2.2-py3-none-any.whl (344kB)\n",
      "Requirement already satisfied: pyparsing in c:\\users\\vikra\\anaconda3\\lib\\site-packages (from rdflib>=4.0->sparqlwrapper)\n",
      "Collecting isodate (from rdflib>=4.0->sparqlwrapper)\n",
      "  Downloading https://files.pythonhosted.org/packages/9b/9f/b36f7774ff5ea8e428fdcfc4bb332c39ee5b9362ddd3d40d9516a55221b2/isodate-0.6.0-py2.py3-none-any.whl (45kB)\n",
      "Requirement already satisfied: six in c:\\users\\vikra\\anaconda3\\lib\\site-packages (from isodate->rdflib>=4.0->sparqlwrapper)\n",
      "Installing collected packages: isodate, rdflib, sparqlwrapper\n",
      "Successfully installed isodate-0.6.0 rdflib-4.2.2 sparqlwrapper-1.8.5\n"
     ]
    },
    {
     "name": "stderr",
     "output_type": "stream",
     "text": [
      "You are using pip version 9.0.1, however version 20.0.2 is available.\n",
      "You should consider upgrading via the 'python -m pip install --upgrade pip' command.\n"
     ]
    }
   ],
   "source": [
    "!pip install sparqlwrapper\n",
    "# https://rdflib.github.io/sparqlwrapper/"
   ]
  },
  {
   "cell_type": "code",
   "execution_count": 8,
   "metadata": {
    "collapsed": false
   },
   "outputs": [
    {
     "name": "stderr",
     "output_type": "stream",
     "text": [
      "100%|████████████████████████████████████████████████████████████████████████████████████| 2/2 [01:01<00:00, 30.66s/it]\n"
     ]
    },
    {
     "name": "stdout",
     "output_type": "stream",
     "text": [
      "Got 100000 items from wikidata\n"
     ]
    },
    {
     "data": {
      "text/html": [
       "<div>\n",
       "<table border=\"1\" class=\"dataframe\">\n",
       "  <thead>\n",
       "    <tr style=\"text-align: right;\">\n",
       "      <th></th>\n",
       "      <th>cause</th>\n",
       "      <th>country</th>\n",
       "      <th>date_of_death</th>\n",
       "      <th>human</th>\n",
       "      <th>occupation</th>\n",
       "    </tr>\n",
       "  </thead>\n",
       "  <tbody>\n",
       "    <tr>\n",
       "      <th>0</th>\n",
       "      <td>suicide</td>\n",
       "      <td>Germany</td>\n",
       "      <td>1898-03-31T00:00:00Z</td>\n",
       "      <td>Eleanor Marx</td>\n",
       "      <td>politician</td>\n",
       "    </tr>\n",
       "    <tr>\n",
       "      <th>1</th>\n",
       "      <td>suicide</td>\n",
       "      <td>Germany</td>\n",
       "      <td>1898-03-31T00:00:00Z</td>\n",
       "      <td>Eleanor Marx</td>\n",
       "      <td>translator</td>\n",
       "    </tr>\n",
       "    <tr>\n",
       "      <th>2</th>\n",
       "      <td>suicide</td>\n",
       "      <td>United States of America</td>\n",
       "      <td>1895-07-28T00:00:00Z</td>\n",
       "      <td>Henry Shimer</td>\n",
       "      <td>zoologist</td>\n",
       "    </tr>\n",
       "    <tr>\n",
       "      <th>3</th>\n",
       "      <td>suicide</td>\n",
       "      <td>Germany</td>\n",
       "      <td>2009-01-05T00:00:00Z</td>\n",
       "      <td>Adolf Merckle</td>\n",
       "      <td>entrepreneur</td>\n",
       "    </tr>\n",
       "    <tr>\n",
       "      <th>4</th>\n",
       "      <td>suicide</td>\n",
       "      <td>Germany</td>\n",
       "      <td>2009-01-05T00:00:00Z</td>\n",
       "      <td>Adolf Merckle</td>\n",
       "      <td>jurist</td>\n",
       "    </tr>\n",
       "  </tbody>\n",
       "</table>\n",
       "</div>"
      ],
      "text/plain": [
       "     cause                   country         date_of_death          human  \\\n",
       "0  suicide                   Germany  1898-03-31T00:00:00Z   Eleanor Marx   \n",
       "1  suicide                   Germany  1898-03-31T00:00:00Z   Eleanor Marx   \n",
       "2  suicide  United States of America  1895-07-28T00:00:00Z   Henry Shimer   \n",
       "3  suicide                   Germany  2009-01-05T00:00:00Z  Adolf Merckle   \n",
       "4  suicide                   Germany  2009-01-05T00:00:00Z  Adolf Merckle   \n",
       "\n",
       "     occupation  \n",
       "0    politician  \n",
       "1    translator  \n",
       "2     zoologist  \n",
       "3  entrepreneur  \n",
       "4        jurist  "
      ]
     },
     "execution_count": 8,
     "metadata": {},
     "output_type": "execute_result"
    }
   ],
   "source": [
    "import pandas as pd\n",
    "import time \n",
    "from tqdm import tqdm\n",
    "from SPARQLWrapper import SPARQLWrapper, JSON\n",
    "\n",
    "endpoint_url = \"https://query.wikidata.org/sparql\"\n",
    "\n",
    "query = \"\"\"\n",
    "PREFIX wikibase: <http://wikiba.se/ontology#>\n",
    "PREFIX wd: <http://www.wikidata.org/entity/>\n",
    "PREFIX wdt: <http://www.wikidata.org/prop/direct/>\n",
    "PREFIX rdfs: <http://www.w3.org/2000/01/rdf-schema#>\n",
    "\n",
    "SELECT DISTINCT ?human ?cause ?date_of_birth ?date_of_death ?country ?occupation WHERE {\n",
    "  ?h wdt:P31 wd:Q5.\n",
    "  ?h wdt:P1196 ?cid.\n",
    "  ?h wdt:P570 ?date_of_death.\n",
    "  ?h wdt:P106 ?occup.\n",
    "  ?h wdt:P27 ?count\n",
    "  Filter ((str(?cause)) = \"suicide\" || (str(?cause)) =\"homicide\" || (str(?cause)) = \"natural causes\" || str(?cause) = \"accident\")\n",
    "  OPTIONAL {\n",
    "    ?h rdfs:label ?human.\n",
    "    FILTER((LANG(?human)) = \"en\")\n",
    "  }\n",
    "  OPTIONAL {\n",
    "    ?cid rdfs:label ?cause.\n",
    "    FILTER((LANG(?cause)) = \"en\")\n",
    "  }\n",
    "  OPTIONAL {\n",
    "    ?count rdfs:label ?country.\n",
    "    FILTER((LANG(?country)) = \"en\")\n",
    "  }\n",
    "    OPTIONAL {\n",
    "    ?occup rdfs:label ?occupation.\n",
    "    FILTER((LANG(?occupation)) = \"en\")\n",
    "  }\n",
    "}\n",
    "limit  %s\n",
    "offset %s\n",
    "\"\"\"\n",
    "\n",
    "def get_results(endpoint_url, query, limit=100000, offset=0):\n",
    "    sparql = SPARQLWrapper(endpoint_url)\n",
    "    sparql.setQuery(query % (limit, offset))\n",
    "    sparql.setReturnFormat(JSON)\n",
    "    return sparql.query().convert()\n",
    "\n",
    "max_items = 100000\n",
    "batch_size = 50000\n",
    "to_skip = 0\n",
    "\n",
    "results = []\n",
    "\n",
    "\n",
    "for i in tqdm(range(max_items//batch_size)):\n",
    "  results.extend(get_results(endpoint_url, query, limit=batch_size, offset=to_skip)['results']['bindings'])\n",
    "  to_skip += batch_size\n",
    "  time.sleep(10)\n",
    "\n",
    "\n",
    "data = pd.DataFrame([{k: v['value'] for k, v in d.items()} for d in results])\n",
    "print(f'Got {len(data)} items from wikidata')\n",
    "data.head()"
   ]
  },
  {
   "cell_type": "code",
   "execution_count": null,
   "metadata": {
    "collapsed": false
   },
   "outputs": [],
   "source": [
    "\n"
   ]
  },
  {
   "cell_type": "code",
   "execution_count": null,
   "metadata": {
    "collapsed": false
   },
   "outputs": [],
   "source": []
  },
  {
   "cell_type": "code",
   "execution_count": null,
   "metadata": {
    "collapsed": true
   },
   "outputs": [],
   "source": []
  }
 ],
 "metadata": {
  "kernelspec": {
   "display_name": "Python 3",
   "language": "python",
   "name": "python3"
  },
  "language_info": {
   "codemirror_mode": {
    "name": "ipython",
    "version": 3
   },
   "file_extension": ".py",
   "mimetype": "text/x-python",
   "name": "python",
   "nbconvert_exporter": "python",
   "pygments_lexer": "ipython3",
   "version": "3.6.0"
  }
 },
 "nbformat": 4,
 "nbformat_minor": 2
}
