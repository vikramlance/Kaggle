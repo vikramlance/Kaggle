{
  "metadata": {
    "kernelspec": {
      "display_name": "Python 3",
      "language": "python",
      "name": "python3"
    },
    "language_info": {
      "codemirror_mode": {
        "name": "ipython",
        "version": 3
      },
      "file_extension": ".py",
      "mimetype": "text/x-python",
      "name": "python",
      "nbconvert_exporter": "python",
      "pygments_lexer": "ipython3",
      "version": "3.6.0"
    }
  },
  "nbformat": 4,
  "nbformat_minor": 0,
  "cells": [
    {
      "cell_type": "code",
      "source": "import numpy as np\nimport pandas as pd\nimport csv\nfrom bs4 import BeautifulSoup\n\nfrom sklearn.feature_extraction.text import CountVectorizer, TfidfVectorizer\nRES_DIR = \"../input/\"",
      "execution_count": null,
      "outputs": [],
      "metadata": {}
    },
    {
      "cell_type": "markdown",
      "source": "## Load Data",
      "metadata": {}
    },
    {
      "cell_type": "code",
      "source": "# Load train data\ndef load_train_data(skip_content=False):\n    categories = ['cooking', 'robotics', 'travel', 'crypto', 'diy', 'biology']\n    train_data = []\n    for cat in categories:\n        if skip_content:\n            data = pd.read_csv(\"{}{}.csv\".format(RES_DIR, cat), usecols=['id', 'title', 'tags'])\n        else:\n            data = pd.read_csv(\"{}{}.csv\".format(RES_DIR, cat))\n        data['category'] = cat\n        train_data.append(data)\n    \n    return pd.concat(train_data)",
      "execution_count": null,
      "outputs": [],
      "metadata": {}
    },
    {
      "cell_type": "code",
      "source": "def load_test_data():\n    test_data = pd.read_csv(RES_DIR + 'test.csv')\n    return test_data",
      "execution_count": null,
      "outputs": [],
      "metadata": {}
    },
    {
      "cell_type": "code",
      "source": "train_data = load_train_data()\ntrain_data.head()",
      "execution_count": null,
      "outputs": [],
      "metadata": {}
    },
    {
      "cell_type": "code",
      "source": "test_data = load_test_data()\ntest_data.head()",
      "execution_count": null,
      "outputs": [],
      "metadata": {}
    },
    {
      "cell_type": "markdown",
      "source": "## Clean content and generate unique text field",
      "metadata": {}
    },
    {
      "cell_type": "code",
      "source": "def merge(row):\n    title = row['title']\n    content = row['content']\n    clean_content = BeautifulSoup(content, \"html.parser\")\n    clean_content = clean_content.get_text()\n    row['text'] = title + \" \" + clean_content\n    return row",
      "execution_count": null,
      "outputs": [],
      "metadata": {}
    },
    {
      "cell_type": "code",
      "source": "#nlp_train_data = train_data.apply(merge, axis=1)[['id', 'text', 'tags']]\n#nlp_train_data.head()",
      "execution_count": null,
      "outputs": [],
      "metadata": {}
    },
    {
      "cell_type": "code",
      "source": "nlp_test_data = test_data.apply(merge, axis=1)[['id', 'text']]\nnlp_test_data.head()",
      "execution_count": null,
      "outputs": [],
      "metadata": {}
    },
    {
      "cell_type": "markdown",
      "source": "## Vectorize test data text",
      "metadata": {}
    },
    {
      "cell_type": "code",
      "source": "tfidf = TfidfVectorizer(analyzer = \"word\", max_features = 5000, \n                        stop_words=\"english\", ngram_range=(1,2))\nfeatures = tfidf.fit_transform(nlp_test_data['text']).toarray()",
      "execution_count": null,
      "outputs": [],
      "metadata": {}
    },
    {
      "cell_type": "code",
      "source": "## Select top features for each test sample",
      "execution_count": null,
      "outputs": [],
      "metadata": {}
    },
    {
      "cell_type": "code",
      "source": "tfidf_tags = []\ntop_n = -5\nfeature_array = np.array(tfidf.get_feature_names())\ntfidf_sorting = np.argsort(features)\nfor i, e in enumerate(tfidf_sorting):\n    tmp_tags = []\n    indexes = e[top_n:]\n    for idx in indexes:\n        cur_tag = feature_array[idx]\n        if features[i][idx] > 0.1 and len(cur_tag)>3 and '_' not in cur_tag:\n            tmp_tags.append(cur_tag.replace(' ', '-'))\n    tfidf_tags.append(\" \".join(tmp_tags))",
      "execution_count": null,
      "outputs": [],
      "metadata": {}
    },
    {
      "cell_type": "code",
      "source": "df = pd.DataFrame({'id':test_data['id'], 'tags':tfidf_tags})\ndf.head()",
      "execution_count": null,
      "outputs": [],
      "metadata": {}
    },
    {
      "cell_type": "code",
      "source": "df.to_csv('submission.csv', index=False, quoting=csv.QUOTE_ALL)",
      "execution_count": null,
      "outputs": [],
      "metadata": {}
    }
  ]
}